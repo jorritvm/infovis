{
 "cells": [
  {
   "cell_type": "markdown",
   "metadata": {},
   "source": [
    "# Process GPWT dataset from raw to clean."
   ]
  },
  {
   "cell_type": "code",
   "execution_count": null,
   "metadata": {},
   "outputs": [],
   "source": [
    "import pandas as pd"
   ]
  },
  {
   "cell_type": "markdown",
   "metadata": {},
   "source": [
    "## Actions\n",
    "* Perform an initial assessment of the raw data to understand its structure, quality, and any potential issues.\n",
    "* Identify missing values, outliers, duplicates, and inconsistencies within the data.\n",
    "* Handle missing values through imputation or deletion based on the nature of the data and the analysis requirements.\n",
    "* Address outliers and anomalies by applying statistical methods or domain knowledge.\n",
    "* Standardize data formats, such as converting date/time formats, ensuring consistent units, and addressing encoding issues.\n",
    "* Perform basic data transformations, such as normalization or scaling, if necessary.\n",
    "* Document all data cleaning operations performed in this stage for transparency and reproducibility."
   ]
  },
  {
   "cell_type": "code",
   "execution_count": null,
   "metadata": {},
   "outputs": [],
   "source": [
    "# todo"
   ]
  }
 ],
 "metadata": {
  "language_info": {
   "name": "python"
  }
 },
 "nbformat": 4,
 "nbformat_minor": 2
}
